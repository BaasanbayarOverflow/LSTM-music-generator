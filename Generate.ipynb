{
 "cells": [
  {
   "cell_type": "code",
   "execution_count": 2,
   "metadata": {},
   "outputs": [],
   "source": [
    "import numpy as np\n",
    "import pickle as pc\n",
    "\n",
    "from music21 import instrument, stream, note, chord\n",
    "\n",
    "from keras.models import Sequential\n",
    "from keras.layers import Activation\n",
    "from keras.layers import Dropout\n",
    "from keras.layers import Dense\n",
    "from keras.layers import BatchNormalization\n",
    "from keras.layers import LSTM"
   ]
  },
  {
   "cell_type": "code",
   "execution_count": 3,
   "metadata": {},
   "outputs": [],
   "source": [
    "def seqGen(notes, pitchNames, vocab):\n",
    "    noteEnum1 = dict((note, num) for num, note in enumerate(pitchNames))\n",
    "    \n",
    "    seqLen = 100\n",
    "    networkIN = []\n",
    "    networkOUT = []\n",
    "    \n",
    "    for i in range(0, len(notes) - seqLen, 1):\n",
    "        seqIn = notes[i : i+seqLen]\n",
    "        seqOut = notes[i + seqLen]\n",
    "        networkIN.append([noteEnum1[ch] for ch in seqIn])\n",
    "        networkOUT.append(noteEnum1[seqOut])\n",
    "    patterns = len(networkIN)\n",
    "    \n",
    "    normalizedIN = np.reshape(networkIN, (patterns, seqLen, 1))\n",
    "    normalizedIN = normalizedIN / float(vocab)\n",
    "    \n",
    "    return(networkIN, normalizedIN)"
   ]
  },
  {
   "cell_type": "code",
   "execution_count": 4,
   "metadata": {},
   "outputs": [],
   "source": [
    "def neuralNet(netIN, vocab):\n",
    "    \n",
    "    model = Sequential()\n",
    "    model.add(LSTM(512, input_shape=(netIN.shape[1], netIN.shape[2]), recurrent_dropout=0.2, return_sequences=True))\n",
    "    model.add(LSTM(512, return_sequences=True, recurrent_dropout=0.2,))\n",
    "    model.add(LSTM(512))\n",
    "    model.add(BatchNormalization())\n",
    "    model.add(Dropout(0.2))\n",
    "    model.add(Dense(256))\n",
    "    model.add(Activation('relu'))\n",
    "    model.add(BatchNormalization())\n",
    "    model.add(Dropout(0.2))\n",
    "    model.add(Dense(128))\n",
    "    model.add(Activation(('relu')))\n",
    "    model.add(BatchNormalization())\n",
    "    model.add(Dropout(0.2))\n",
    "    model.add(Dense(vocab))\n",
    "    model.add(Activation('softmax'))\n",
    "    model.compile(loss='categorical_crossentropy', optimizer='rmsprop')\n",
    "    \n",
    "    model.load_weights('weights.hdf5')\n",
    "    return model    "
   ]
  },
  {
   "cell_type": "code",
   "execution_count": 5,
   "metadata": {},
   "outputs": [],
   "source": [
    "def genNotes(model, netIN, pitchName, vocab):\n",
    "    begin = np.random.randint(0, len(netIN)-1)\n",
    "    noteEnum2 = dict((num, note) for num, note in enumerate(pitchName))\n",
    "    print(noteEnum2)\n",
    "    pattern = netIN[begin]\n",
    "    predictOut= []\n",
    "    \n",
    "    for note in range(1000):\n",
    "        prediction = np.reshape(pattern, (1, len(pattern), 1))\n",
    "        prediction = prediction / float(vocab)\n",
    "        predictionResult = model.predict(prediction, verbose = 0)\n",
    "        ind = np.argmax(predictionResult)\n",
    "        result = noteEnum2[ind]\n",
    "        predictOut.append(result)\n",
    "        pattern.append(ind)\n",
    "        pattern = pattern[1:len(pattern)]\n",
    "    return predictOut"
   ]
  },
  {
   "cell_type": "code",
   "execution_count": 6,
   "metadata": {},
   "outputs": [],
   "source": [
    "def generateMusicFile(notes):\n",
    "    \n",
    "    res = []\n",
    "    offset = 0\n",
    "    \n",
    "    for singleNote in notes:\n",
    "        if ('.' in singleNote) or singleNote.isdigit():\n",
    "            chord = singleNote.split('.')\n",
    "            music = []\n",
    "            for nt in chord:\n",
    "                n = note.Note(int(nt))\n",
    "                n.storedInstrument = instrument.Piano()\n",
    "                music.append(n)\n",
    "            newChord = chord.Chord(music)\n",
    "            newChord.offset = offset\n",
    "            res.append(newChord)\n",
    "        else:\n",
    "            newNote = note.Note(singleNote)\n",
    "            newNote.offset = offset\n",
    "            newNote.storedInstrument = instrument.Piano()\n",
    "            res.append(newNote)\n",
    "        offset += 0.5\n",
    "    fileStream = stream.Stream(res)\n",
    "    file.write('midi', fp='music.mid')"
   ]
  },
  {
   "cell_type": "code",
   "execution_count": null,
   "metadata": {},
   "outputs": [
    {
     "name": "stdout",
     "output_type": "stream",
     "text": [
      "WARNING:tensorflow:Layer lstm will not use cuDNN kernel since it doesn't meet the cuDNN kernel criteria. It will use generic GPU kernel as fallback when running on GPU\n",
      "WARNING:tensorflow:Layer lstm_1 will not use cuDNN kernel since it doesn't meet the cuDNN kernel criteria. It will use generic GPU kernel as fallback when running on GPU\n",
      "{0: '0', 1: '0.1.3.6', 2: '0.1.4.8', 3: '0.3', 4: '0.4', 5: '0.4.7', 6: '0.5', 7: '1', 8: '1.3.4.8', 9: '1.3.6', 10: '1.3.6.8', 11: '1.4', 12: '1.4.6.8', 13: '1.4.8', 14: '1.5', 15: '1.5.8', 16: '1.6', 17: '1.7', 18: '10', 19: '10.0', 20: '10.1', 21: '10.1.4', 22: '10.11.3.6', 23: '10.2', 24: '10.2.5', 25: '10.3', 26: '11', 27: '11.0.3.6', 28: '11.1', 29: '11.1.3.6', 30: '11.1.5', 31: '11.2', 32: '11.2.3.6', 33: '11.3', 34: '11.3.4.6', 35: '11.3.5.6', 36: '11.3.6', 37: '11.3.6.7', 38: '11.4', 39: '2', 40: '2.3.5', 41: '2.4.6.7', 42: '2.5', 43: '2.5.7', 44: '2.6', 45: '2.6.9', 46: '2.7', 47: '2.8', 48: '3', 49: '3.5.8.11', 50: '3.5.9', 51: '3.6', 52: '3.6.8', 53: '3.6.8.11', 54: '3.6.9', 55: '3.6.9.11', 56: '3.7', 57: '3.8', 58: '4', 59: '4.6', 60: '4.6.8', 61: '4.7', 62: '4.8', 63: '4.8.11', 64: '4.9', 65: '5', 66: '5.10', 67: '5.11', 68: '5.6.8', 69: '5.6.8.11', 70: '5.8', 71: '5.8.0', 72: '5.8.10.11', 73: '5.8.11', 74: '5.8.11.0', 75: '5.9', 76: '6', 77: '6.10', 78: '6.10.1', 79: '6.11', 80: '6.9', 81: '6.9.1', 82: '7', 83: '7.0', 84: '7.10', 85: '7.11', 86: '7.11.2', 87: '8', 88: '8.0', 89: '8.0.3', 90: '8.1', 91: '8.10.1.4', 92: '8.11', 93: '8.11.1', 94: '8.11.1.4', 95: '9', 96: '9.0', 97: '9.0.3', 98: '9.0.3.5', 99: '9.1', 100: '9.10.2', 101: '9.11.2', 102: '9.2', 103: 'A1', 104: 'A2', 105: 'A3', 106: 'A4', 107: 'A5', 108: 'A6', 109: 'B-1', 110: 'B-2', 111: 'B-3', 112: 'B-4', 113: 'B-5', 114: 'B-6', 115: 'B0', 116: 'B1', 117: 'B2', 118: 'B3', 119: 'B4', 120: 'B5', 121: 'B6', 122: 'C#1', 123: 'C#2', 124: 'C#3', 125: 'C#4', 126: 'C#5', 127: 'C#6', 128: 'C#7', 129: 'C1', 130: 'C2', 131: 'C3', 132: 'C4', 133: 'C5', 134: 'C6', 135: 'C7', 136: 'D2', 137: 'D3', 138: 'D4', 139: 'D5', 140: 'D6', 141: 'D7', 142: 'E-1', 143: 'E-2', 144: 'E-3', 145: 'E-4', 146: 'E-5', 147: 'E-6', 148: 'E-7', 149: 'E1', 150: 'E2', 151: 'E3', 152: 'E4', 153: 'E5', 154: 'E6', 155: 'E7', 156: 'F#1', 157: 'F#2', 158: 'F#3', 159: 'F#4', 160: 'F#5', 161: 'F#6', 162: 'F#7', 163: 'F2', 164: 'F3', 165: 'F4', 166: 'F5', 167: 'F6', 168: 'F7', 169: 'G#1', 170: 'G#2', 171: 'G#3', 172: 'G#4', 173: 'G#5', 174: 'G#6', 175: 'G1', 176: 'G2', 177: 'G3', 178: 'G4', 179: 'G5', 180: 'G6'}\n"
     ]
    }
   ],
   "source": [
    "with open('data/notes', 'rb') as filePath:\n",
    "    notes = pc.load(filePath)\n",
    "\n",
    "pitchNames = sorted(set(note for note in notes))\n",
    "vocab = len(set(notes))\n",
    "\n",
    "netIn, normalIn = seqGen(notes, pitchNames, vocab) \n",
    "model = neuralNet(normalIn, vocab)\n",
    "predictionRes = genNotes(model, netIn, pitchNames, vocab)\n",
    "generateMusicFile(predictionRes)"
   ]
  },
  {
   "cell_type": "code",
   "execution_count": null,
   "metadata": {},
   "outputs": [],
   "source": []
  },
  {
   "cell_type": "code",
   "execution_count": null,
   "metadata": {},
   "outputs": [],
   "source": []
  },
  {
   "cell_type": "code",
   "execution_count": null,
   "metadata": {},
   "outputs": [],
   "source": [
    "import tensorflow as tf\n",
    "physical_devices = tf.config.list_physical_devices('GPU') \n",
    "tf.config.experimental.set_memory_growth(physical_devices[0], True)"
   ]
  },
  {
   "cell_type": "code",
   "execution_count": 1,
   "metadata": {},
   "outputs": [],
   "source": [
    "import tensorflow as tf"
   ]
  },
  {
   "cell_type": "code",
   "execution_count": 2,
   "metadata": {},
   "outputs": [
    {
     "ename": "AttributeError",
     "evalue": "module 'tensorflow' has no attribute 'ConfigProto'",
     "output_type": "error",
     "traceback": [
      "\u001b[1;31m---------------------------------------------------------------------------\u001b[0m",
      "\u001b[1;31mAttributeError\u001b[0m                            Traceback (most recent call last)",
      "\u001b[1;32m<ipython-input-2-452c6ffbe5e8>\u001b[0m in \u001b[0;36m<module>\u001b[1;34m\u001b[0m\n\u001b[1;32m----> 1\u001b[1;33m \u001b[0mconfig\u001b[0m \u001b[1;33m=\u001b[0m \u001b[0mtf\u001b[0m\u001b[1;33m.\u001b[0m\u001b[0mConfigProto\u001b[0m\u001b[1;33m(\u001b[0m\u001b[1;33m)\u001b[0m\u001b[1;33m\u001b[0m\u001b[1;33m\u001b[0m\u001b[0m\n\u001b[0m\u001b[0;32m      2\u001b[0m \u001b[0mconfig\u001b[0m\u001b[1;33m.\u001b[0m\u001b[0mgpu_options\u001b[0m\u001b[1;33m.\u001b[0m\u001b[0mallow_growth\u001b[0m \u001b[1;33m=\u001b[0m \u001b[1;32mTrue\u001b[0m\u001b[1;33m\u001b[0m\u001b[1;33m\u001b[0m\u001b[0m\n",
      "\u001b[1;31mAttributeError\u001b[0m: module 'tensorflow' has no attribute 'ConfigProto'"
     ]
    }
   ],
   "source": [
    "config = tf.ConfigProto()\n",
    "config.gpu_options.allow_growth = True\n"
   ]
  },
  {
   "cell_type": "code",
   "execution_count": 1,
   "metadata": {},
   "outputs": [],
   "source": [
    "import os\n",
    "os.environ[\"CUDA_DEVICE_ORDER\"] = \"PCI_BUS_ID\" \n",
    "os.environ[\"CUDA_VISIBLE_DEVICES\"] = \"\""
   ]
  },
  {
   "cell_type": "code",
   "execution_count": null,
   "metadata": {},
   "outputs": [],
   "source": []
  }
 ],
 "metadata": {
  "kernelspec": {
   "display_name": "Python 3",
   "language": "python",
   "name": "python3"
  },
  "language_info": {
   "codemirror_mode": {
    "name": "ipython",
    "version": 3
   },
   "file_extension": ".py",
   "mimetype": "text/x-python",
   "name": "python",
   "nbconvert_exporter": "python",
   "pygments_lexer": "ipython3",
   "version": "3.8.5"
  }
 },
 "nbformat": 4,
 "nbformat_minor": 4
}
